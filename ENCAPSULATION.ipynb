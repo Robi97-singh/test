{
 "cells": [
  {
   "cell_type": "code",
   "execution_count": 1,
   "id": "3e50e7d0-c865-43c2-a8e1-d69adf9887fa",
   "metadata": {},
   "outputs": [],
   "source": [
    "class test:\n",
    "    \n",
    "    def __init__(self, a,b):\n",
    "        self.a=a\n",
    "        self.b=b"
   ]
  },
  {
   "cell_type": "code",
   "execution_count": 2,
   "id": "fc0beb60-b7b5-4717-a6fa-333c3aecbf63",
   "metadata": {},
   "outputs": [],
   "source": [
    "t=test(23,24)"
   ]
  },
  {
   "cell_type": "code",
   "execution_count": 3,
   "id": "ea8e5737-a8f4-42a4-8a54-c4ed750edb1a",
   "metadata": {},
   "outputs": [],
   "source": [
    "t.a=23456565\n"
   ]
  },
  {
   "cell_type": "code",
   "execution_count": 5,
   "id": "7fb06c02-b0de-4be9-b837-ce410a032da7",
   "metadata": {
    "scrolled": true,
    "tags": []
   },
   "outputs": [
    {
     "data": {
      "text/plain": [
       "23456565"
      ]
     },
     "execution_count": 5,
     "metadata": {},
     "output_type": "execute_result"
    }
   ],
   "source": [
    "t.a"
   ]
  },
  {
   "cell_type": "code",
   "execution_count": 17,
   "id": "c696b2ef-b93b-4e36-9b74-9feacc9268ac",
   "metadata": {},
   "outputs": [],
   "source": [
    "class car:\n",
    "    def __init__(self, year,make,model,speed):\n",
    "        \n",
    "        self.__year=year\n",
    "        self.__make=make\n",
    "        self.__model=model\n",
    "        self.__speed=0\n",
    "        \n",
    "    def set_speed(self,speed):\n",
    "        self.__speed=0 if speed < 0 else speed\n",
    "    \n",
    "    def get_speed(self):\n",
    "        return self.__speed"
   ]
  },
  {
   "cell_type": "code",
   "execution_count": 18,
   "id": "a05f1d5f-f396-4cf6-a241-7a9d021b28d3",
   "metadata": {},
   "outputs": [],
   "source": [
    "c=car(2021,\"toyota\",\"innova\",12)"
   ]
  },
  {
   "cell_type": "code",
   "execution_count": 20,
   "id": "26619a9a-fba1-4ddb-84d7-21789530908e",
   "metadata": {},
   "outputs": [
    {
     "data": {
      "text/plain": [
       "2021"
      ]
     },
     "execution_count": 20,
     "metadata": {},
     "output_type": "execute_result"
    }
   ],
   "source": [
    "c._car__year"
   ]
  },
  {
   "cell_type": "code",
   "execution_count": 21,
   "id": "50be38f2-b30b-4ff5-a493-8423c5efa128",
   "metadata": {},
   "outputs": [],
   "source": [
    "c.set_speed(345)"
   ]
  },
  {
   "cell_type": "code",
   "execution_count": 22,
   "id": "a31108be-0da9-4e82-a6fe-3da731a369fe",
   "metadata": {},
   "outputs": [
    {
     "data": {
      "text/plain": [
       "345"
      ]
     },
     "execution_count": 22,
     "metadata": {},
     "output_type": "execute_result"
    }
   ],
   "source": [
    "c.get_speed()"
   ]
  },
  {
   "cell_type": "code",
   "execution_count": 38,
   "id": "7dec07bb-0206-4a32-b8fd-f7646e63f07f",
   "metadata": {},
   "outputs": [],
   "source": [
    "class bank_account:\n",
    "    def __init__(self, balance):\n",
    "        self.__balance=balance\n",
    "        \n",
    "    def depost(self,amount):\n",
    "        self.__balance=self.__balance+amount\n",
    "        \n",
    "    def withdraw(self,amount):\n",
    "        if self.__balance>=amount:\n",
    "            self.__balance=self.__balance-amount\n",
    "            return True\n",
    "        else:\n",
    "            return False\n",
    "    def get__balance(self):\n",
    "        return self.__balance"
   ]
  },
  {
   "cell_type": "code",
   "execution_count": 39,
   "id": "e11215b6-036e-4197-9cfa-1c7fd33fca06",
   "metadata": {},
   "outputs": [],
   "source": [
    "sudh= bank_account(45000)"
   ]
  },
  {
   "cell_type": "code",
   "execution_count": 40,
   "id": "ac286c60-bf31-41bb-9bba-d7a603d4ec10",
   "metadata": {},
   "outputs": [
    {
     "data": {
      "text/plain": [
       "45000"
      ]
     },
     "execution_count": 40,
     "metadata": {},
     "output_type": "execute_result"
    }
   ],
   "source": [
    "sudh.get__balance()"
   ]
  },
  {
   "cell_type": "code",
   "execution_count": 41,
   "id": "3599039f-ac61-420f-9ad0-5de2fdfe91a2",
   "metadata": {},
   "outputs": [],
   "source": [
    "sudh.depost(5000)"
   ]
  },
  {
   "cell_type": "code",
   "execution_count": 42,
   "id": "65d637d4-85cb-4bcd-bc18-9ef62022d651",
   "metadata": {},
   "outputs": [
    {
     "data": {
      "text/plain": [
       "50000"
      ]
     },
     "execution_count": 42,
     "metadata": {},
     "output_type": "execute_result"
    }
   ],
   "source": [
    "sudh.get__balance()"
   ]
  },
  {
   "cell_type": "code",
   "execution_count": 43,
   "id": "34da7873-37f5-4449-8f32-fcae12a98389",
   "metadata": {},
   "outputs": [],
   "source": [
    "sudh.depost(5000)"
   ]
  },
  {
   "cell_type": "code",
   "execution_count": 44,
   "id": "324f203b-8d81-41c4-92c7-73437cbf5792",
   "metadata": {},
   "outputs": [
    {
     "data": {
      "text/plain": [
       "55000"
      ]
     },
     "execution_count": 44,
     "metadata": {},
     "output_type": "execute_result"
    }
   ],
   "source": [
    "sudh.get__balance()"
   ]
  },
  {
   "cell_type": "code",
   "execution_count": 45,
   "id": "bced1098-efd2-47e0-8ffc-6d00fa9a7066",
   "metadata": {},
   "outputs": [
    {
     "data": {
      "text/plain": [
       "True"
      ]
     },
     "execution_count": 45,
     "metadata": {},
     "output_type": "execute_result"
    }
   ],
   "source": [
    "sudh.withdraw(9000)"
   ]
  },
  {
   "cell_type": "code",
   "execution_count": 46,
   "id": "2ed36299-755d-4c3e-9c73-b41f359dbb51",
   "metadata": {},
   "outputs": [
    {
     "data": {
      "text/plain": [
       "46000"
      ]
     },
     "execution_count": 46,
     "metadata": {},
     "output_type": "execute_result"
    }
   ],
   "source": [
    "sudh.get__balance()"
   ]
  },
  {
   "cell_type": "code",
   "execution_count": null,
   "id": "2d2ae5e9-f1c5-404a-b1f3-27ab85ce37e4",
   "metadata": {},
   "outputs": [],
   "source": []
  }
 ],
 "metadata": {
  "kernelspec": {
   "display_name": "Python 3 (ipykernel)",
   "language": "python",
   "name": "python3"
  },
  "language_info": {
   "codemirror_mode": {
    "name": "ipython",
    "version": 3
   },
   "file_extension": ".py",
   "mimetype": "text/x-python",
   "name": "python",
   "nbconvert_exporter": "python",
   "pygments_lexer": "ipython3",
   "version": "3.10.8"
  }
 },
 "nbformat": 4,
 "nbformat_minor": 5
}
